{
 "cells": [
  {
   "cell_type": "code",
   "execution_count": 1,
   "metadata": {},
   "outputs": [],
   "source": [
    "import numpy as np"
   ]
  },
  {
   "cell_type": "code",
   "execution_count": 2,
   "metadata": {},
   "outputs": [],
   "source": [
    "text = 'Yesterday all my troubles seemed so far away Now it looks as though they are here to stay Oh I believe in yesterday Suddenly I am not half the man I used to be There is a shadow hanging over me Oh yesterday came suddenly Why she had to go I do not know she wouldn not say I said something wrong now I long for yesterday Yesterday love was such an easy game to play Now I need a place to hide away Oh I believe in yesterday'\n",
    "text = text.lower()\n",
    "words = text.split(' ')"
   ]
  },
  {
   "cell_type": "code",
   "execution_count": 3,
   "metadata": {},
   "outputs": [],
   "source": [
    "word_to_id = {}\n",
    "id_to_word = {}\n",
    "\n",
    "for word in words:\n",
    "    if word not in word_to_id:\n",
    "        new_id = len(word_to_id)\n",
    "        word_to_id[word] = new_id\n",
    "        id_to_word[new_id] = word"
   ]
  },
  {
   "cell_type": "code",
   "execution_count": 4,
   "metadata": {},
   "outputs": [
    {
     "name": "stdout",
     "output_type": "stream",
     "text": [
      "{0: 'yesterday', 1: 'all', 2: 'my', 3: 'troubles', 4: 'seemed', 5: 'so', 6: 'far', 7: 'away', 8: 'now', 9: 'it', 10: 'looks', 11: 'as', 12: 'though', 13: 'they', 14: 'are', 15: 'here', 16: 'to', 17: 'stay', 18: 'oh', 19: 'i', 20: 'believe', 21: 'in', 22: 'suddenly', 23: 'am', 24: 'not', 25: 'half', 26: 'the', 27: 'man', 28: 'used', 29: 'be', 30: 'there', 31: 'is', 32: 'a', 33: 'shadow', 34: 'hanging', 35: 'over', 36: 'me', 37: 'came', 38: 'why', 39: 'she', 40: 'had', 41: 'go', 42: 'do', 43: 'know', 44: 'wouldn', 45: 'say', 46: 'said', 47: 'something', 48: 'wrong', 49: 'long', 50: 'for', 51: 'love', 52: 'was', 53: 'such', 54: 'an', 55: 'easy', 56: 'game', 57: 'play', 58: 'need', 59: 'place', 60: 'hide'}\n",
      "{'for': 50, 'easy': 55, 'place': 59, 'it': 9, 'over': 35, 'are': 14, 'play': 57, 'suddenly': 22, 'came': 37, 'know': 43, 'a': 32, 'yesterday': 0, 'something': 47, 'all': 1, 'the': 26, 'here': 15, 'they': 13, 'my': 2, 'had': 40, 'so': 5, 'love': 51, 'an': 54, 'to': 16, 'hanging': 34, 'long': 49, 'need': 58, 'am': 23, 'used': 28, 'was': 52, 'though': 12, 'now': 8, 'believe': 20, 'looks': 10, 'say': 45, 'do': 42, 'troubles': 3, 'not': 24, 'said': 46, 'man': 27, 'hide': 60, 'be': 29, 'wrong': 48, 'in': 21, 'game': 56, 'go': 41, 'shadow': 33, 'far': 6, 'why': 38, 'as': 11, 'stay': 17, 'wouldn': 44, 'such': 53, 'me': 36, 'oh': 18, 'away': 7, 'seemed': 4, 'she': 39, 'there': 30, 'is': 31, 'half': 25, 'i': 19}\n"
     ]
    }
   ],
   "source": [
    "print(id_to_word)\n",
    "print(word_to_id)"
   ]
  },
  {
   "cell_type": "code",
   "execution_count": 5,
   "metadata": {},
   "outputs": [
    {
     "name": "stdout",
     "output_type": "stream",
     "text": [
      "[ 0  1  2  3  4  5  6  7  8  9 10 11 12 13 14 15 16 17 18 19 20 21  0 22\n",
      " 19 23 24 25 26 27 19 28 16 29 30 31 32 33 34 35 36 18  0 37 22 38 39 40\n",
      " 16 41 19 42 24 43 39 44 24 45 19 46 47 48  8 19 49 50  0  0 51 52 53 54\n",
      " 55 56 16 57  8 19 58 32 59 16 60  7 18 19 20 21  0]\n"
     ]
    }
   ],
   "source": [
    "corpus = [word_to_id[word] for word in words]\n",
    "corpus = np.array(corpus)\n",
    "print(corpus)"
   ]
  },
  {
   "cell_type": "code",
   "execution_count": 6,
   "metadata": {},
   "outputs": [],
   "source": [
    "window = 1\n",
    "corpus_size = len(word_to_id)\n",
    "vector = np.zeros((corpus_size, corpus_size), dtype=np.int32)\n"
   ]
  },
  {
   "cell_type": "code",
   "execution_count": 7,
   "metadata": {},
   "outputs": [],
   "source": [
    "for word in words:\n",
    "    index = word_to_id[word]\n",
    "    if(index-1>-1):\n",
    "        vector[index, index-1]+=1\n",
    "    if(index+1<len(word_to_id)):\n",
    "        vector[index, index+1]+=1"
   ]
  },
  {
   "cell_type": "code",
   "execution_count": 8,
   "metadata": {},
   "outputs": [],
   "source": [
    "def cos_similarity(x, y, eps=1e-8):\n",
    "    nx = x / (np.sqrt(np.sum(x**2))+eps)\n",
    "    ny = y / (np.sqrt(np.sum(y**2))+eps)\n",
    "    return np.dot(nx, ny)"
   ]
  },
  {
   "cell_type": "code",
   "execution_count": 10,
   "metadata": {},
   "outputs": [
    {
     "name": "stdout",
     "output_type": "stream",
     "text": [
      "[0 6 0 0 0 0 0 0 0 0 0 0 0 0 0 0 0 0 0 0 0 0 0 0 0 0 0 0 0 0 0 0 0 0 0 0 0\n",
      " 0 0 0 0 0 0 0 0 0 0 0 0 0 0 0 0 0 0 0 0 0 0 0 0]\n",
      "[0 1 0 1 0 0 0 0 0 0 0 0 0 0 0 0 0 0 0 0 0 0 0 0 0 0 0 0 0 0 0 0 0 0 0 0 0\n",
      " 0 0 0 0 0 0 0 0 0 0 0 0 0 0 0 0 0 0 0 0 0 0 0 0]\n",
      "0.7071067750080362\n"
     ]
    }
   ],
   "source": [
    "c0 = vector[word_to_id['yesterday']]\n",
    "c1 = vector[word_to_id['my']]\n",
    "print(c0)\n",
    "print(c1)\n",
    "print(cos_similarity(c0, c1))"
   ]
  },
  {
   "cell_type": "code",
   "execution_count": null,
   "metadata": {},
   "outputs": [],
   "source": []
  }
 ],
 "metadata": {
  "kernelspec": {
   "display_name": "Python 3",
   "language": "python",
   "name": "python3"
  },
  "language_info": {
   "codemirror_mode": {
    "name": "ipython",
    "version": 3
   },
   "file_extension": ".py",
   "mimetype": "text/x-python",
   "name": "python",
   "nbconvert_exporter": "python",
   "pygments_lexer": "ipython3",
   "version": "3.5.6"
  }
 },
 "nbformat": 4,
 "nbformat_minor": 2
}
