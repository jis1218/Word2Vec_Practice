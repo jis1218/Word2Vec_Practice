{
 "cells": [
  {
   "cell_type": "code",
   "execution_count": 1,
   "metadata": {},
   "outputs": [],
   "source": [
    "import numpy as np"
   ]
  },
  {
   "cell_type": "code",
   "execution_count": 2,
   "metadata": {},
   "outputs": [
    {
     "data": {
      "text/plain": [
       "['you',\n",
       " 'say',\n",
       " 'yes',\n",
       " 'i',\n",
       " 'say',\n",
       " 'no',\n",
       " 'you',\n",
       " 'say',\n",
       " 'stop',\n",
       " 'but',\n",
       " 'i',\n",
       " 'say',\n",
       " 'go',\n",
       " 'go',\n",
       " 'go',\n",
       " 'oh',\n",
       " 'no',\n",
       " 'you',\n",
       " 'say',\n",
       " 'goodbye',\n",
       " 'and',\n",
       " 'i',\n",
       " 'say',\n",
       " 'hello']"
      ]
     },
     "execution_count": 2,
     "metadata": {},
     "output_type": "execute_result"
    }
   ],
   "source": [
    "text = 'You say yes I say no you say stop but I say go go go oh no You say goodbye and I say hello'\n",
    "text = text.lower()\n",
    "words = text.split(' ')\n",
    "words"
   ]
  },
  {
   "cell_type": "code",
   "execution_count": 3,
   "metadata": {},
   "outputs": [],
   "source": [
    "word_to_id = {}\n",
    "id_to_word = {}\n",
    "\n",
    "for word in words:\n",
    "    if word not in word_to_id:\n",
    "        new_id = len(word_to_id)\n",
    "        word_to_id[word] = new_id\n",
    "        id_to_word[new_id] = word"
   ]
  },
  {
   "cell_type": "code",
   "execution_count": 5,
   "metadata": {},
   "outputs": [
    {
     "name": "stdout",
     "output_type": "stream",
     "text": [
      "{0: 'you', 1: 'say', 2: 'yes', 3: 'i', 4: 'no', 5: 'stop', 6: 'but', 7: 'go', 8: 'oh', 9: 'goodbye', 10: 'and', 11: 'hello'}\n",
      "{'hello': 11, 'you': 0, 'no': 4, 'stop': 5, 'yes': 2, 'and': 10, 'oh': 8, 'go': 7, 'i': 3, 'goodbye': 9, 'but': 6, 'say': 1}\n"
     ]
    }
   ],
   "source": [
    "print(id_to_word)\n",
    "print(word_to_id)"
   ]
  },
  {
   "cell_type": "code",
   "execution_count": 7,
   "metadata": {},
   "outputs": [
    {
     "name": "stdout",
     "output_type": "stream",
     "text": [
      "[ 0  1  2  3  1  4  0  1  5  6  3  1  7  7  7  8  4  0  1  9 10  3  1 11]\n"
     ]
    }
   ],
   "source": [
    "corpus = [word_to_id[word] for word in words]\n",
    "corpus = np.array(corpus)\n",
    "print(corpus)"
   ]
  },
  {
   "cell_type": "code",
   "execution_count": null,
   "metadata": {},
   "outputs": [],
   "source": []
  }
 ],
 "metadata": {
  "kernelspec": {
   "display_name": "Python 3",
   "language": "python",
   "name": "python3"
  },
  "language_info": {
   "codemirror_mode": {
    "name": "ipython",
    "version": 3
   },
   "file_extension": ".py",
   "mimetype": "text/x-python",
   "name": "python",
   "nbconvert_exporter": "python",
   "pygments_lexer": "ipython3",
   "version": "3.5.6"
  }
 },
 "nbformat": 4,
 "nbformat_minor": 2
}
